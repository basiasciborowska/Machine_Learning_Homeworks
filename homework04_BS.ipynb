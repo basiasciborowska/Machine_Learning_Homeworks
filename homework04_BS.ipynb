{
 "cells": [
  {
   "cell_type": "code",
   "execution_count": 1,
   "metadata": {},
   "outputs": [],
   "source": [
    "import matplotlib.pyplot as plt # like in matlab (also \"seaborn\" for plotting)\n",
    "import numpy as np"
   ]
  },
  {
   "cell_type": "code",
   "execution_count": 2,
   "metadata": {},
   "outputs": [
    {
     "data": {
      "image/png": "[encoded data removed]",
      "text/plain": [
       "<matplotlib.figure.Figure at 0x108dd9d30>"
      ]
     },
     "metadata": {},
     "output_type": "display_data"
    }
   ],
   "source": [
    "X=np.array([(4,1940),(9,2960),(9,4630),(78,1528),(90,2040),(50,3700),(467,14815),(509,15200),(290,15700),(215,6045)])\n",
    "\n",
    "x1 = np.array(X[:,0])\n",
    "x2 = np.array(X[:,1])\n",
    "\n",
    "fig, ax = plt.subplots()\n",
    "ax.scatter(x1,x2)\n",
    "ax.set(xlabel='Seats count', ylabel='Distance range (km)',\n",
    "       title='Aircrafts')\n",
    "ax.grid()\n",
    "plt.show()"
   ]
  },
  {
   "cell_type": "code",
   "execution_count": 3,
   "metadata": {},
   "outputs": [],
   "source": [
    "#normalizing data\n",
    "train_data = np.array(X)\n",
    "max_values = train_data.max(0)\n",
    "\n",
    "X_norm = np.divide(train_data,max_values)"
   ]
  },
  {
   "cell_type": "code",
   "execution_count": 4,
   "metadata": {},
   "outputs": [
    {
     "name": "stdout",
     "output_type": "stream",
     "text": [
      "[[0.00785855 0.12356688]\n",
      " [0.01768173 0.18853503]\n",
      " [0.01768173 0.29490446]\n",
      " [0.15324165 0.09732484]\n",
      " [0.17681729 0.12993631]\n",
      " [0.09823183 0.23566879]\n",
      " [0.91748527 0.94363057]\n",
      " [1.         0.96815287]\n",
      " [0.5697446  1.        ]\n",
      " [0.42239686 0.38503185]]\n"
     ]
    }
   ],
   "source": [
    "print(X_norm)"
   ]
  },
  {
   "cell_type": "code",
   "execution_count": 5,
   "metadata": {},
   "outputs": [
    {
     "name": "stdout",
     "output_type": "stream",
     "text": [
      "[[0.02008875 0.02799852]\n",
      " [0.03486954 0.08368249]\n",
      " [0.01867634 0.05759692]\n",
      " [0.07179944 0.02815377]\n",
      " [0.09408543 0.05692665]\n",
      " [0.08814005 0.09210932]\n",
      " [0.04341373 0.0496148 ]\n",
      " [0.03416655 0.09348721]\n",
      " [0.01685898 0.0766887 ]\n",
      " [0.05497012 0.04166928]]\n"
     ]
    }
   ],
   "source": [
    "import random\n",
    "data_set = X_norm\n",
    "groups = 2\n",
    "space=[[0,1],[0,1]]\n",
    "\n",
    "error_margin = 0.00001\n",
    "m = 2.0 # fixed value, parameter, usually 2\n",
    "\n",
    "#assignation matrix set to something close to zero at the beginning\n",
    "assignation = (np.random.rand(len(X),groups) + 0.01) / 10\n",
    "print(assignation)"
   ]
  },
  {
   "cell_type": "code",
   "execution_count": 6,
   "metadata": {},
   "outputs": [],
   "source": [
    "centers = []\n",
    "\n",
    "def select_centers():\n",
    "    global centers\n",
    "    global groups\n",
    "    global space\n",
    "    iter = 0\n",
    "    while iter < groups:\n",
    "        centers.append((random.uniform(space[0][0],space[0][1]), \n",
    "                        random.uniform(space[1][0],space[1][1])))\n",
    "        iter=iter+1\n",
    "        \n",
    "select_centers()"
   ]
  },
  {
   "cell_type": "code",
   "execution_count": 7,
   "metadata": {},
   "outputs": [
    {
     "name": "stdout",
     "output_type": "stream",
     "text": [
      "[(0.9993810985175123, 0.859501575954175), (0.08504708859637289, 0.882584343319098)]\n"
     ]
    }
   ],
   "source": [
    "print(centers)"
   ]
  },
  {
   "cell_type": "code",
   "execution_count": 8,
   "metadata": {},
   "outputs": [
    {
     "name": "stdout",
     "output_type": "stream",
     "text": [
      "[[0.1407423  0.1289333 ]\n",
      " [0.1289333  0.14320383]]\n",
      "[[ 40.5557139  -36.51426257]\n",
      " [-36.51426257  39.85860298]]\n"
     ]
    }
   ],
   "source": [
    "global inv_covariance\n",
    "covariance = np.cov(X_norm[:,0], X_norm[:,1], rowvar=0)\n",
    "inv_covariance = np.linalg.inv(covariance)\n",
    "print(covariance)\n",
    "print(inv_covariance)"
   ]
  },
  {
   "cell_type": "code",
   "execution_count": 9,
   "metadata": {},
   "outputs": [],
   "source": [
    "import math\n",
    "\n",
    "def mahalanobis_distance(x, v):\n",
    "    return max(np.sqrt(np.dot(np.dot(np.transpose(x - v), inv_covariance), (x - v))), 0.00000001)"
   ]
  },
  {
   "cell_type": "code",
   "execution_count": 10,
   "metadata": {},
   "outputs": [],
   "source": [
    "def calculate_u(x, i):\n",
    "    global centers\n",
    "        \n",
    "    u_x = 0.0\n",
    "    u_scalar = 0.0\n",
    "    for j in range(len(data_set)):\n",
    "        u_scalar = u_scalar + (assignation[j][i]**m)\n",
    "        u_x = u_x + ((assignation[j][i]**m) * (mahalanobis_distance(X_norm[j], centers[i])**2))\n",
    "    eta_i = u_x / u_scalar\n",
    "    \n",
    "    suma = 1.0 + ((mahalanobis_distance(x, centers[i]) / eta_i)**(2/(m-1)))\n",
    "    print('sum: ', suma**-1)\n",
    "    return suma**-1"
   ]
  },
  {
   "cell_type": "code",
   "execution_count": 11,
   "metadata": {},
   "outputs": [],
   "source": [
    "def calculate_new_centers(u):\n",
    "    global centers\n",
    "    new_centers = []\n",
    "    for c in range(groups):\n",
    "        u_x_vector = np.zeros(2)\n",
    "        u_scalar = 0.0\n",
    "        for i in range(len(data_set)):\n",
    "            u_scalar = u_scalar + (u[i][c]**m)\n",
    "            u_x_vector = np.add(u_x_vector, np.multiply(u[i][c]**m, data_set[i]))\n",
    "        new_centers.append(np.divide(u_x_vector, u_scalar))\n",
    "    centers = new_centers\n",
    "    print(centers)"
   ]
  },
  {
   "cell_type": "code",
   "execution_count": 12,
   "metadata": {},
   "outputs": [],
   "source": [
    "def calculate_differences(new_assignation):\n",
    "    global assignation    \n",
    "    return np.sum(np.abs(np.subtract(assignation,new_assignation)))"
   ]
  },
  {
   "cell_type": "code",
   "execution_count": 13,
   "metadata": {},
   "outputs": [],
   "source": [
    "def cluster():\n",
    "    global assignation    \n",
    "    global error_margin\n",
    "    difference_limit_not_achieved = True\n",
    "    iter = 0\n",
    "    while difference_limit_not_achieved:\n",
    "        new_assignation = []\n",
    "        for i in range(len(data_set)):\n",
    "            new_assignation_vector = []\n",
    "            for k in range(groups):\n",
    "                new_assignation_vector.append(calculate_u(data_set[i], k))\n",
    "            new_assignation.append(new_assignation_vector)\n",
    "        calculate_new_centers(new_assignation)\n",
    "        \n",
    "        #print('assignation: ', assignation)\n",
    "        if iter > 0:\n",
    "            print(calculate_differences(new_assignation))\n",
    "            if calculate_differences(new_assignation) < error_margin:\n",
    "                difference_limit_not_achieved = False\n",
    "        assignation = new_assignation\n",
    "        iter = iter + 1"
   ]
  },
  {
   "cell_type": "code",
   "execution_count": 14,
   "metadata": {},
   "outputs": [
    {
     "name": "stdout",
     "output_type": "stream",
     "text": [
      "sum:  0.7410791561318536\n",
      "sum:  0.7902820932027596\n",
      "sum:  0.7358214765050185\n",
      "sum:  0.7560276052670117\n",
      "sum:  0.6989298512200618\n",
      "sum:  0.6455565407340434\n",
      "sum:  0.7818959397576425\n",
      "sum:  0.8677991614229585\n",
      "sum:  0.7946334770760212\n",
      "sum:  0.8872955699953438\n",
      "sum:  0.7740212684803307\n",
      "sum:  0.8223570762777116\n",
      "sum:  0.9984993132064953\n",
      "sum:  0.8227854023098469\n",
      "sum:  0.9964480772572036\n",
      "sum:  0.7849131634566074\n",
      "sum:  0.7049587542012375\n",
      "sum:  0.4742376933834666\n",
      "sum:  0.8933872504683507\n",
      "sum:  0.9859307013068119\n",
      "[array([0.41971461, 0.49255525]), array([0.33536651, 0.39200059])]\n",
      "sum:  0.7048765939045959\n",
      "sum:  0.6688071831189207\n",
      "sum:  0.6571261346989593\n",
      "sum:  0.5932493346750688\n",
      "sum:  0.5209313189475987\n",
      "sum:  0.421624127967646\n",
      "sum:  0.8134000962731692\n",
      "sum:  0.8196054557612166\n",
      "sum:  0.8415470378348999\n",
      "sum:  0.8563960368147729\n",
      "sum:  0.7444465287340026\n",
      "sum:  0.7007156643870064\n",
      "sum:  0.7037510746445915\n",
      "sum:  0.5021479108819835\n",
      "sum:  0.6542273452527161\n",
      "sum:  0.4542463466889702\n",
      "sum:  0.33844078739768935\n",
      "sum:  0.2253272001352352\n",
      "sum:  0.9821603897431351\n",
      "sum:  0.9731720101475614\n",
      "[array([0.32234764, 0.36624174]), array([0.26801729, 0.30108899])]\n",
      "3.1150427067494175\n",
      "sum:  0.6153749279421873\n",
      "sum:  0.5313109088761061\n",
      "sum:  0.5293167615091557\n",
      "sum:  0.42014333017230876\n",
      "sum:  0.3535169688895506\n",
      "sum:  0.2448251058005746\n",
      "sum:  0.7921486991777086\n",
      "sum:  0.7691541382643402\n",
      "sum:  0.836344297009241\n",
      "sum:  0.8288762577435429\n",
      "sum:  0.6456849763114476\n",
      "sum:  0.5448582198633615\n",
      "sum:  0.40998315965283655\n",
      "sum:  0.2446877142625528\n",
      "sum:  0.3658493362831029\n",
      "sum:  0.21473671782319462\n",
      "sum:  0.1743774234846153\n",
      "sum:  0.10233274397881359\n",
      "sum:  0.9562578923064647\n",
      "sum:  0.8613113747484127\n",
      "[array([0.25502018, 0.28013574]), array([0.22626637, 0.23704811])]\n",
      "2.7351076239102214\n",
      "sum:  0.46548314980477057\n",
      "sum:  0.32559377154359936\n",
      "sum:  0.3507721826702557\n",
      "sum:  0.21904537612259375\n",
      "sum:  0.1911776576580168\n",
      "sum:  0.10502929138266838\n",
      "sum:  0.732711433608196\n",
      "sum:  0.6388094046759478\n",
      "sum:  0.8035370795160068\n",
      "sum:  0.7351840316167629\n",
      "sum:  0.47211009828434336\n",
      "sum:  0.31643228977505733\n",
      "sum:  0.18160836441500192\n",
      "sum:  0.088733864802192\n",
      "sum:  0.15832309843621445\n",
      "sum:  0.07682811187324003\n",
      "sum:  0.07500814616013342\n",
      "sum:  0.036928501643709574\n",
      "sum:  0.788577088884486\n",
      "sum:  0.5603240406498915\n",
      "[array([0.22051409, 0.22287216]), array([0.20503661, 0.19077689])]\n",
      "3.1188739705764306\n",
      "sum:  0.260145744815778\n",
      "sum:  0.15673817222116082\n",
      "sum:  0.16702645643995798\n",
      "sum:  0.0920732489879384\n",
      "sum:  0.07659066779255602\n",
      "sum:  0.039294068509141584\n",
      "sum:  0.5731603731098373\n",
      "sum:  0.43760060960862956\n",
      "sum:  0.6804655996235665\n",
      "sum:  0.5546587253999786\n",
      "sum:  0.2481538688914993\n",
      "sum:  0.14185013781295017\n",
      "sum:  0.06247390173893683\n",
      "sum:  0.02962639593233702\n",
      "sum:  0.05399230348837483\n",
      "sum:  0.02560444066100269\n",
      "sum:  0.026062256656653113\n",
      "sum:  0.012660778611035447\n",
      "sum:  0.4502833924420639\n",
      "sum:  0.24622085188060602\n",
      "[array([0.19910252, 0.17792789]), array([0.18379513, 0.15159575])]\n",
      "2.9875349888990836\n",
      "sum:  0.1225757531463004\n",
      "sum:  0.0714946572491777\n",
      "sum:  0.06969778403724995\n",
      "sum:  0.03827237717788964\n",
      "sum:  0.02907260508351498\n",
      "sum:  0.015378278381310003\n",
      "sum:  0.3762919503911196\n",
      "sum:  0.25944027905130296\n",
      "sum:  0.4900834014958714\n",
      "sum:  0.3506588332317436\n",
      "sum:  0.10832128248696836\n",
      "sum:  0.05980369202261432\n",
      "sum:  0.021278166080384384\n",
      "sum:  0.010580265370281118\n",
      "sum:  0.018401335045234588\n",
      "sum:  0.009171938267668947\n",
      "sum:  0.009202457884708325\n",
      "sum:  0.004715250038381528\n",
      "sum:  0.18104243908940573\n",
      "sum:  0.08911885450186756\n",
      "[array([0.17902798, 0.14341813]), array([0.17255072, 0.13224616])]\n",
      "2.0000803945910093\n",
      "sum:  0.05712718661719457\n",
      "sum:  0.0391347078246075\n",
      "sum:  0.030039631992081175\n",
      "sum:  0.020104371106336068\n",
      "sum:  0.011948917191475072\n",
      "sum:  0.007897506891902193\n",
      "sum:  0.21781377983347425\n",
      "sum:  0.1587715115604197\n",
      "sum:  0.29678798790449196\n",
      "sum:  0.21762831205377653\n",
      "sum:  0.04693251833444077\n",
      "sum:  0.031358199026072446\n",
      "sum:  0.008070542584080614\n",
      "sum:  0.005204933461191056\n",
      "sum:  0.007002117671417913\n",
      "sum:  0.004521243682323537\n",
      "sum:  0.00363108013518971\n",
      "sum:  0.0023724980227330596\n",
      "sum:  0.06731563965269417\n",
      "sum:  0.042656067140347885\n",
      "[array([0.17134535, 0.12995583]), array([0.17011859, 0.12753835])]\n",
      "1.0582828473467452\n",
      "sum:  0.03551679865986495\n",
      "sum:  0.03183220227030591\n",
      "sum:  0.018162014425827582\n",
      "sum:  0.016200952060476868\n",
      "sum:  0.007117416565012576\n",
      "sum:  0.006333457748826056\n",
      "sum:  0.1458728927032111\n",
      "sum:  0.1323735411751488\n",
      "sum:  0.20010378242623994\n",
      "sum:  0.18167268073862528\n",
      "sum:  0.028316136631894816\n",
      "sum:  0.025245342401915682\n",
      "sum:  0.004668402071687173\n",
      "sum:  0.004133643170176344\n",
      "sum:  0.0040561463599085084\n",
      "sum:  0.0035924130444546774\n",
      "sum:  0.00213340424433037\n",
      "sum:  0.001894089307201088\n",
      "sum:  0.03811713610686698\n",
      "sum:  0.033614532562248396\n",
      "[array([0.16992057, 0.12712614]), array([0.16972667, 0.12672202])]\n",
      "0.35536176801202707\n",
      "sum:  0.031207888202252704\n",
      "sum:  0.030606876819728675\n",
      "sum:  0.015870589882351585\n",
      "sum:  0.015552924198867925\n",
      "sum:  0.006201785367895104\n",
      "sum:  0.0060752548260742615\n",
      "sum:  0.13004924272542745\n",
      "sum:  0.12780166868609175\n",
      "sum:  0.17849550867343075\n",
      "sum:  0.17541889049986994\n",
      "sum:  0.02472830961632331\n",
      "sum:  0.024231088899138924\n",
      "sum:  0.004044353198192868\n",
      "sum:  0.003958630163894405\n",
      "sum:  0.003514960054719432\n",
      "sum:  0.0034405986278507037\n",
      "sum:  0.0018540045631270509\n",
      "sum:  0.0018155043921500979\n",
      "sum:  0.03286609885459677\n",
      "sum:  0.03214766455211734\n",
      "[array([0.16969548, 0.12665606]), array([0.16966516, 0.12659246])]\n",
      "0.07107514187012205\n",
      "sum:  0.03050867709572636\n",
      "sum:  0.030414992574003114\n",
      "sum:  0.01550107393766275\n",
      "sum:  0.015451604712111596\n",
      "sum:  0.006054612848544442\n",
      "sum:  0.006034918836974869\n",
      "sum:  0.1274334822044824\n",
      "sum:  0.12708198725619924\n",
      "sum:  0.1749149191503517\n",
      "sum:  0.17443342400841902\n",
      "sum:  0.024149942976492107\n",
      "sum:  0.02407251134051886\n",
      "sum:  0.0039446607035590366\n",
      "sum:  0.003931329915391297\n",
      "sum:  0.003428479980467228\n",
      "sum:  0.0034169156011381644\n",
      "sum:  0.0018092266463021992\n",
      "sum:  0.0018032368563067945\n",
      "sum:  0.032030700846110545\n",
      "sum:  0.03191902362665761\n",
      "[array([0.16966027, 0.12658215]), array([0.16965553, 0.12657225])]\n",
      "0.011546121686681721\n",
      "sum:  0.030399779861514133\n",
      "sum:  0.030385278924130267\n",
      "sum:  0.015443573575503083\n",
      "sum:  0.01543591677204544\n",
      "sum:  0.006031721929363383\n",
      "sum:  0.0060286738135395205\n",
      "sum:  0.12702488727415012\n",
      "sum:  0.12697045413047695\n",
      "sum:  0.17435521752368768\n",
      "sum:  0.17428062449356985\n",
      "sum:  0.0240599413521507\n",
      "sum:  0.02404795575438169\n",
      "sum:  0.003929166514282587\n",
      "sum:  0.003927103187503114\n",
      "sum:  0.0034150388355397377\n",
      "sum:  0.003413248921475031\n",
      "sum:  0.0018022646494383658\n",
      "sum:  0.001801337590822075\n",
      "sum:  0.03190090538334527\n",
      "sum:  0.03188361656610497\n",
      "[array([0.16965477, 0.12657065]), array([0.16965403, 0.12656912])]\n",
      "0.0017990140643953584\n",
      "sum:  0.030382926875536544\n",
      "sum:  0.030380684203597064\n",
      "sum:  0.015434674939225521\n",
      "sum:  0.015433490668603214\n",
      "sum:  0.006028179466351462\n",
      "sum:  0.006027708003778786\n",
      "sum:  0.12696162448787748\n",
      "sum:  0.12695320543921101\n",
      "sum:  0.17426852623264008\n",
      "sum:  0.1742569862305661\n",
      "sum:  0.024046011915640646\n",
      "sum:  0.024044158007204938\n",
      "sum:  0.003926768590859409\n",
      "sum:  0.003926449407478283\n",
      "sum:  0.0034129586604815356\n",
      "sum:  0.003412681774792935\n",
      "sum:  0.0018011872457362249\n",
      "sum:  0.0018010438477487482\n",
      "sum:  0.031880813375582844\n",
      "sum:  0.031878138296605144\n",
      "[array([0.16965391, 0.12656887]), array([0.1696538 , 0.12656863])]\n",
      "0.0002784893835059959\n",
      "sum:  0.030380320546436315\n",
      "sum:  0.030379973675398027\n",
      "sum:  0.015433298643566308\n",
      "sum:  0.015433115460749087\n",
      "sum:  0.0060276315593070645\n",
      "sum:  0.006027558631440402\n",
      "sum:  0.12695184024209782\n",
      "sum:  0.1269505380730185\n",
      "sum:  0.17425511512904632\n",
      "sum:  0.1742533299283163\n",
      "sum:  0.024043857410105916\n",
      "sum:  0.024043570635355276\n",
      "sum:  0.003926397657436375\n",
      "sum:  0.003926348279315272\n",
      "sum:  0.0034126368823965293\n",
      "sum:  0.003412594048103098\n",
      "sum:  0.001801020597312896\n",
      "sum:  0.0018009984149804574\n",
      "sum:  0.03187770462251025\n",
      "sum:  0.03187729071047364\n",
      "[array([0.16965378, 0.12656859]), array([0.16965376, 0.12656855])]\n",
      "4.307652215210754e-05\n",
      "sum:  0.030379917435998157\n",
      "sum:  0.03037986377737814\n",
      "sum:  0.015433085761591796\n",
      "sum:  0.01543305742288284\n",
      "sum:  0.0060275468079003585\n",
      "sum:  0.006027535525579546\n",
      "sum:  0.1269503269469135\n",
      "sum:  0.12695012551081478\n",
      "sum:  0.1742530405060889\n",
      "sum:  0.17425276431330217\n",
      "sum:  0.024043524141788362\n",
      "sum:  0.024043479775818548\n",
      "sum:  0.0039263402741760885\n",
      "sum:  0.00392633263449344\n",
      "sum:  0.003412587103823061\n",
      "sum:  0.0034125804766241886\n",
      "sum:  0.0018009948186979096\n",
      "sum:  0.0018009913868693712\n",
      "sum:  0.03187722361216675\n",
      "sum:  0.031877159564183216\n",
      "[array([0.16965376, 0.12656855]), array([0.16965376, 0.12656854])]\n",
      "6.663350274761738e-06\n"
     ]
    }
   ],
   "source": [
    "cluster()"
   ]
  },
  {
   "cell_type": "code",
   "execution_count": 15,
   "metadata": {},
   "outputs": [
    {
     "name": "stdout",
     "output_type": "stream",
     "text": [
      "[array([0.16965376, 0.12656855]), array([0.16965376, 0.12656854])]\n"
     ]
    }
   ],
   "source": [
    "print(centers)"
   ]
  },
  {
   "cell_type": "code",
   "execution_count": 16,
   "metadata": {},
   "outputs": [
    {
     "name": "stdout",
     "output_type": "stream",
     "text": [
      "[[0.030379917435998157, 0.03037986377737814], [0.015433085761591796, 0.01543305742288284], [0.0060275468079003585, 0.006027535525579546], [0.1269503269469135, 0.12695012551081478], [0.1742530405060889, 0.17425276431330217], [0.024043524141788362, 0.024043479775818548], [0.0039263402741760885, 0.00392633263449344], [0.003412587103823061, 0.0034125804766241886], [0.0018009948186979096, 0.0018009913868693712], [0.03187722361216675, 0.031877159564183216]]\n"
     ]
    }
   ],
   "source": [
    "print(assignation)"
   ]
  },
  {
   "cell_type": "code",
   "execution_count": 17,
   "metadata": {},
   "outputs": [],
   "source": [
    "red = X_norm[np.where(np.array(assignation)[:,0] > np.array(assignation)[:,1])]\n",
    "blue = X_norm[np.where(np.array(assignation)[:,1] > np.array(assignation)[:,0])]\n",
    "\n",
    "#red = X_norm[np.where(np.array(assignation)[:,0] > np.array(assignation)[:,1]) and np.where(np.array(assignation)[:,0] > np.array(assignation)[:,2])]\n",
    "#blue = X_norm[np.where(np.array(assignation)[:,1] > np.array(assignation)[:,0]) and np.where(np.array(assignation)[:,1] > np.array(assignation)[:,2])]\n",
    "#orange = X_norm[np.where(np.array(assignation)[:,2] > np.array(assignation)[:,0]) and np.where(np.array(assignation)[:,2] > np.array(assignation)[:,1])]"
   ]
  },
  {
   "cell_type": "code",
   "execution_count": 18,
   "metadata": {},
   "outputs": [
    {
     "data": {
      "image/png": "[encoded data removed]",
      "text/plain": [
       "<matplotlib.figure.Figure at 0x108dd9c50>"
      ]
     },
     "metadata": {},
     "output_type": "display_data"
    }
   ],
   "source": [
    "fig, ax = plt.subplots()\n",
    "\n",
    "ax.scatter(blue[:,0],blue[:,1],c='blue')\n",
    "ax.scatter(red[:,0],red[:,1],c='red')\n",
    "#ax.scatter(orange[:,0],orange[:,1],c='orange')\n",
    "ax.scatter(np.array(centers)[:,0],np.array(centers)[:,1],c='black')\n",
    "ax.set(xlabel='Seats count', ylabel='Distance range (km)',\n",
    "       title='Aircrafts (clusters)')\n",
    "ax.grid()\n",
    "plt.show()"
   ]
  },
  {
   "cell_type": "code",
   "execution_count": null,
   "metadata": {},
   "outputs": [],
   "source": []
  }
 ],
 "metadata": {
  "kernelspec": {
   "display_name": "Python 3",
   "language": "python",
   "name": "python3"
  },
  "language_info": {
   "codemirror_mode": {
    "name": "ipython",
    "version": 3
   },
   "file_extension": ".py",
   "mimetype": "text/x-python",
   "name": "python",
   "nbconvert_exporter": "python",
   "pygments_lexer": "ipython3",
   "version": "3.6.4"
  }
 },
 "nbformat": 4,
 "nbformat_minor": 2
}
