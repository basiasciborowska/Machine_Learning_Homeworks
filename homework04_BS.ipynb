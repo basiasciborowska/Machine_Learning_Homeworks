{
 "cells": [
  {
   "cell_type": "code",
   "execution_count": 1,
   "metadata": {},
   "outputs": [],
   "source": [
    "import matplotlib.pyplot as plt # like in matlab (also \"seaborn\" for plotting)\n",
    "import numpy as np"
   ]
  },
  {
   "cell_type": "code",
   "execution_count": 2,
   "metadata": {},
   "outputs": [
    {
     "data": {
      "image/png": "[encoded data removed]",
      "text/plain": [
       "<matplotlib.figure.Figure at 0x11233de80>"
      ]
     },
     "metadata": {},
     "output_type": "display_data"
    }
   ],
   "source": [
    "X=np.array([(4,1940),(9,2960),(9,4630),(78,1528),(90,2040),(50,3700),(467,14815),(509,15200),(290,15700),(215,6045)])\n",
    "\n",
    "x1 = np.array(X[:,0])\n",
    "x2 = np.array(X[:,1])\n",
    "\n",
    "fig, ax = plt.subplots()\n",
    "ax.scatter(x1,x2)\n",
    "ax.set(xlabel='Seats count', ylabel='Distance range (km)',\n",
    "       title='Aircrafts')\n",
    "ax.grid()\n",
    "plt.show()"
   ]
  },
  {
   "cell_type": "code",
   "execution_count": 3,
   "metadata": {},
   "outputs": [],
   "source": [
    "#normalizing data\n",
    "train_data = np.array(X)\n",
    "max_values = train_data.max(0)\n",
    "\n",
    "X_norm = np.divide(train_data,max_values)"
   ]
  },
  {
   "cell_type": "code",
   "execution_count": 4,
   "metadata": {},
   "outputs": [
    {
     "name": "stdout",
     "output_type": "stream",
     "text": [
      "[[0.00785855 0.12356688]\n",
      " [0.01768173 0.18853503]\n",
      " [0.01768173 0.29490446]\n",
      " [0.15324165 0.09732484]\n",
      " [0.17681729 0.12993631]\n",
      " [0.09823183 0.23566879]\n",
      " [0.91748527 0.94363057]\n",
      " [1.         0.96815287]\n",
      " [0.5697446  1.        ]\n",
      " [0.42239686 0.38503185]]\n"
     ]
    }
   ],
   "source": [
    "print(X_norm)"
   ]
  },
  {
   "cell_type": "code",
   "execution_count": 5,
   "metadata": {},
   "outputs": [
    {
     "name": "stdout",
     "output_type": "stream",
     "text": [
      "[[0.09176788 0.09662526]\n",
      " [0.09465058 0.06412858]\n",
      " [0.03261748 0.0737898 ]\n",
      " [0.09327914 0.06878721]\n",
      " [0.04254975 0.04433917]\n",
      " [0.06436595 0.10080931]\n",
      " [0.0852484  0.07904463]\n",
      " [0.06173668 0.00671677]\n",
      " [0.06238558 0.09574788]\n",
      " [0.00677417 0.02126799]]\n"
     ]
    }
   ],
   "source": [
    "import random\n",
    "data_set = X_norm\n",
    "groups = 2\n",
    "space=[[0,1],[0,1]]\n",
    "\n",
    "error_margin = 0.00001\n",
    "m = 2.0 # fixed value, parameter, usually 2\n",
    "\n",
    "#assignation matrix set to something close to zero at the beginning\n",
    "assignation = (np.random.rand(len(X),groups) + 0.01) / 10\n",
    "print(assignation)"
   ]
  },
  {
   "cell_type": "code",
   "execution_count": 6,
   "metadata": {},
   "outputs": [],
   "source": [
    "centers = []\n",
    "\n",
    "def select_centers():\n",
    "    global centers\n",
    "    global groups\n",
    "    global space\n",
    "    iter = 0\n",
    "    while iter < groups:\n",
    "        centers.append((random.uniform(space[0][0],space[0][1]), \n",
    "                        random.uniform(space[1][0],space[1][1])))\n",
    "        iter=iter+1\n",
    "        \n",
    "select_centers()"
   ]
  },
  {
   "cell_type": "code",
   "execution_count": 7,
   "metadata": {},
   "outputs": [
    {
     "name": "stdout",
     "output_type": "stream",
     "text": [
      "[(0.23253863389135898, 0.8402276407761169), (0.18990632749913494, 0.08397566621878594)]\n"
     ]
    }
   ],
   "source": [
    "print(centers)"
   ]
  },
  {
   "cell_type": "code",
   "execution_count": 8,
   "metadata": {},
   "outputs": [
    {
     "name": "stdout",
     "output_type": "stream",
     "text": [
      "[[0.1407423  0.1289333 ]\n",
      " [0.1289333  0.14320383]]\n",
      "[[ 40.5557139  -36.51426257]\n",
      " [-36.51426257  39.85860298]]\n"
     ]
    }
   ],
   "source": [
    "global inv_covariance\n",
    "covariance = np.cov(X_norm[:,0], X_norm[:,1], rowvar=0)\n",
    "inv_covariance = np.linalg.inv(covariance)\n",
    "print(covariance)\n",
    "print(inv_covariance)"
   ]
  },
  {
   "cell_type": "code",
   "execution_count": 9,
   "metadata": {},
   "outputs": [],
   "source": [
    "import math\n",
    "\n",
    "def mahalanobis_distance(x, v):\n",
    "    return max(np.sqrt(np.dot(np.dot(np.transpose(x - v), inv_covariance), (x - v))), 0.00000001)"
   ]
  },
  {
   "cell_type": "code",
   "execution_count": 10,
   "metadata": {},
   "outputs": [],
   "source": [
    "def calculate_u(x, i):\n",
    "    global centers\n",
    "        \n",
    "    u_x = 0.0\n",
    "    u_scalar = 0.0\n",
    "    for j in range(len(data_set)):\n",
    "        u_scalar = u_scalar + (assignation[j][i]**m)\n",
    "        u_x = u_x + ((assignation[j][i]**m) * (mahalanobis_distance(X_norm[j], centers[i])**2))\n",
    "    eta_i = u_x / u_scalar\n",
    "    \n",
    "    suma = 1.0 + ((mahalanobis_distance(x, centers[i]) / eta_i)**(2/(m-1)))\n",
    "    print('sum: ', suma**-1)\n",
    "    return suma**-1"
   ]
  },
  {
   "cell_type": "code",
   "execution_count": 11,
   "metadata": {},
   "outputs": [],
   "source": [
    "def calculate_new_centers(u):\n",
    "    global centers\n",
    "    new_centers = []\n",
    "    for c in range(groups):\n",
    "        u_x_vector = np.zeros(2)\n",
    "        u_scalar = 0.0\n",
    "        for i in range(len(data_set)):\n",
    "            u_scalar = u_scalar + (u[i][c]**m)\n",
    "            u_x_vector = np.add(u_x_vector, np.multiply(u[i][c]**m, data_set[i]))\n",
    "        new_centers.append(np.divide(u_x_vector, u_scalar))\n",
    "    centers = new_centers\n",
    "    print(centers)"
   ]
  },
  {
   "cell_type": "code",
   "execution_count": 12,
   "metadata": {},
   "outputs": [],
   "source": [
    "def calculate_differences(new_assignation):\n",
    "    global assignation    \n",
    "    return np.sum(np.abs(np.subtract(assignation,new_assignation)))"
   ]
  },
  {
   "cell_type": "code",
   "execution_count": 13,
   "metadata": {},
   "outputs": [],
   "source": [
    "def cluster():\n",
    "    global assignation    \n",
    "    global error_margin\n",
    "    difference_limit_not_achieved = True\n",
    "    iter = 0\n",
    "    while difference_limit_not_achieved:\n",
    "        new_assignation = []\n",
    "        for i in range(len(data_set)):\n",
    "            new_assignation_vector = []\n",
    "            for k in range(groups):\n",
    "                new_assignation_vector.append(calculate_u(data_set[i], k))\n",
    "            new_assignation.append(new_assignation_vector)\n",
    "        calculate_new_centers(new_assignation)\n",
    "        \n",
    "        #print('assignation: ', assignation)\n",
    "        if iter > 0:\n",
    "            print(calculate_differences(new_assignation))\n",
    "            if calculate_differences(new_assignation) < error_margin:\n",
    "                difference_limit_not_achieved = False\n",
    "        assignation = new_assignation\n",
    "        iter = iter + 1"
   ]
  },
  {
   "cell_type": "code",
   "execution_count": 14,
   "metadata": {},
   "outputs": [
    {
     "name": "stdout",
     "output_type": "stream",
     "text": [
      "sum:  0.9303125732497843\n",
      "sum:  0.9210423138130707\n",
      "sum:  0.9436669056458609\n",
      "sum:  0.8841708141399469\n",
      "sum:  0.9652660088269982\n",
      "sum:  0.8002167090765073\n",
      "sum:  0.888911097060945\n",
      "sum:  0.9957003118009152\n",
      "sum:  0.8922587274209501\n",
      "sum:  0.9940448469385775\n",
      "sum:  0.9387631819671001\n",
      "sum:  0.9084005900546347\n",
      "sum:  0.9095709454489178\n",
      "sum:  0.8111949683413494\n",
      "sum:  0.892120637353312\n",
      "sum:  0.8048465318695586\n",
      "sum:  0.9883408604993317\n",
      "sum:  0.6188482530282235\n",
      "sum:  0.8995944683985413\n",
      "sum:  0.9701717836971261\n",
      "[array([0.3316857 , 0.44103477]), array([0.29938355, 0.37038442])]\n",
      "sum:  0.8153595310654541\n",
      "sum:  0.7771217735284092\n",
      "sum:  0.8178382266449702\n",
      "sum:  0.7310940496920105\n",
      "sum:  0.6919197930742921\n",
      "sum:  0.5332687941982883\n",
      "sum:  0.6887826907252486\n",
      "sum:  0.7006600736024553\n",
      "sum:  0.719590082533967\n",
      "sum:  0.7395703614878849\n",
      "sum:  0.8961505365911148\n",
      "sum:  0.8487397923963588\n",
      "sum:  0.5753737560734528\n",
      "sum:  0.44322003427082446\n",
      "sum:  0.492982585584377\n",
      "sum:  0.3775537560332401\n",
      "sum:  0.4007357404640567\n",
      "sum:  0.25451635204157297\n",
      "sum:  0.8022682952035021\n",
      "sum:  0.815059498799595\n",
      "[array([0.23641906, 0.32254993]), array([0.21233188, 0.28048479])]\n",
      "4.835636804620576\n",
      "sum:  0.7903085393408898\n",
      "sum:  0.7280507345273455\n",
      "sum:  0.732984110113536\n",
      "sum:  0.6120781116479656\n",
      "sum:  0.48062275921863024\n",
      "sum:  0.338114492853789\n",
      "sum:  0.60231679010959\n",
      "sum:  0.5649421471066312\n",
      "sum:  0.643371043345364\n",
      "sum:  0.6131058133733576\n",
      "sum:  0.8769691982844448\n",
      "sum:  0.7921047470148931\n",
      "sum:  0.30038180009523824\n",
      "sum:  0.20138994535052868\n",
      "sum:  0.24942517715693333\n",
      "sum:  0.16714739650729357\n",
      "sum:  0.18323806513181612\n",
      "sum:  0.11273406413578461\n",
      "sum:  0.6659943330832772\n",
      "sum:  0.5898975334895143\n",
      "[array([0.16095029, 0.24288524]), array([0.14768674, 0.22002706])]\n",
      "2.876628922124252\n",
      "sum:  0.744105207863246\n",
      "sum:  0.6673982040445451\n",
      "sum:  0.5837193583366748\n",
      "sum:  0.4571960622953072\n",
      "sum:  0.2649071495437711\n",
      "sum:  0.18134055510846803\n",
      "sum:  0.41154099583206305\n",
      "sum:  0.3552728753444738\n",
      "sum:  0.4516327971023989\n",
      "sum:  0.3949918282435446\n",
      "sum:  0.8062642447077248\n",
      "sum:  0.6844277726049387\n",
      "sum:  0.11620289436005017\n",
      "sum:  0.07829412458240362\n",
      "sum:  0.09532894321826922\n",
      "sum:  0.06449996108280855\n",
      "sum:  0.07078897178160776\n",
      "sum:  0.04605422336251258\n",
      "sum:  0.3825464940331951\n",
      "sum:  0.3004273132046582\n",
      "[array([0.10344369, 0.20002223]), array([0.09725534, 0.19068511])]\n",
      "3.0882368252341617\n",
      "sum:  0.7059367500098646\n",
      "sum:  0.6692248731908385\n",
      "sum:  0.41990695111377235\n",
      "sum:  0.3514613672150599\n",
      "sum:  0.11814476329714785\n",
      "sum:  0.09279253465136371\n",
      "sum:  0.1578517543941855\n",
      "sum:  0.13400319230669483\n",
      "sum:  0.17512466727293668\n",
      "sum:  0.1489907491824179\n",
      "sum:  0.7196319610720183\n",
      "sum:  0.6309847049195849\n",
      "sum:  0.0343816042498792\n",
      "sum:  0.026969255923688176\n",
      "sum:  0.02798051199604641\n",
      "sum:  0.02200669894663571\n",
      "sum:  0.02311732079713503\n",
      "sum:  0.017982795645917336\n",
      "sum:  0.12433669444323912\n",
      "sum:  0.10108505878687486\n",
      "[array([0.05944745, 0.18417718]), array([0.05562353, 0.17964557])]\n",
      "2.458679105529947\n",
      "sum:  0.36780417257047465\n",
      "sum:  0.34517222427893307\n",
      "sum:  0.15145330250051248\n",
      "sum:  0.11986423861129676\n",
      "sum:  0.01658933416303918\n",
      "sum:  0.012769010279505747\n",
      "sum:  0.011940396593583999\n",
      "sum:  0.00934898614695281\n",
      "sum:  0.013091993522815037\n",
      "sum:  0.010240811557117648\n",
      "sum:  0.4206692573056999\n",
      "sum:  0.324703093742659\n",
      "sum:  0.0028694212465497216\n",
      "sum:  0.002207589935009744\n",
      "sum:  0.002313751673512567\n",
      "sum:  0.0017826803943281593\n",
      "sum:  0.00225822521920259\n",
      "sum:  0.0017371868780621336\n",
      "sum:  0.009217898448590313\n",
      "sum:  0.007122557630836483\n",
      "[array([0.05645214, 0.18731278]), array([0.0485157 , 0.17704882])]\n",
      "2.8687580767166185\n",
      "sum:  0.02495812493910315\n",
      "sum:  0.03457239320562692\n",
      "sum:  0.0123564373526003\n",
      "sum:  0.01130657113538989\n",
      "sum:  0.0009745444339204643\n",
      "sum:  0.0009283370400928676\n",
      "sum:  0.0006022239281506549\n",
      "sum:  0.0006089121481390436\n",
      "sum:  0.0006591284171687479\n",
      "sum:  0.0006649928362581606\n",
      "sum:  0.04673832148411508\n",
      "sum:  0.03165520847854142\n",
      "sum:  0.00015191286840898275\n",
      "sum:  0.00014754953461617565\n",
      "sum:  0.00012214632504678797\n",
      "sum:  0.00011907853150385814\n",
      "sum:  0.0001232124544801362\n",
      "sum:  0.00011915003956083286\n",
      "sum:  0.0004728462122130679\n",
      "sum:  0.00046454309588760367\n",
      "[array([0.07510515, 0.20967587]), array([0.04742867, 0.17551041])]\n",
      "1.6654104982378575\n",
      "sum:  0.006633954698878714\n",
      "sum:  0.033107249964196714\n",
      "sum:  0.005918299322503801\n",
      "sum:  0.010006548409881934\n",
      "sum:  0.0004793770986591061\n",
      "sum:  0.0008297932786487926\n",
      "sum:  0.0002689371625283356\n",
      "sum:  0.0005504835369800489\n",
      "sum:  0.0002958231053367099\n",
      "sum:  0.0006010160757170127\n",
      "sum:  0.07347980172506\n",
      "sum:  0.027113560259331492\n",
      "sum:  7.34286184822409e-05\n",
      "sum:  0.00013247911910432527\n",
      "sum:  5.8568467765221636e-05\n",
      "sum:  0.00010697709134103382\n",
      "sum:  5.9710266843568315e-05\n",
      "sum:  0.0001068533277252672\n",
      "sum:  0.00022418860899274873\n",
      "sum:  0.00041805431752966224\n",
      "[array([0.09699418, 0.23446897]), array([0.04285152, 0.16966705])]\n",
      "0.06076349048720724\n",
      "sum:  1.8798351669632998e-05\n",
      "sum:  0.039498545712193175\n",
      "sum:  2.3264570863391368e-05\n",
      "sum:  0.009050914980640826\n",
      "sum:  2.267196076782528e-06\n",
      "sum:  0.0007723837594728461\n",
      "sum:  1.1809081357039108e-06\n",
      "sum:  0.0005292956626405675\n",
      "sum:  1.3059714594982057e-06\n",
      "sum:  0.0005770788666524249\n",
      "sum:  0.13339870224496492\n",
      "sum:  0.02144040441520706\n",
      "sum:  3.5056934351332187e-07\n",
      "sum:  0.00012460169118084274\n",
      "sum:  2.7709628232572316e-07\n",
      "sum:  0.00010082440806612517\n",
      "sum:  2.840040789645927e-07\n",
      "sum:  0.00010029254245387371\n",
      "sum:  1.0506984534454696e-06\n",
      "sum:  0.00039543651284291016\n",
      "[array([0.09823182, 0.23566879]), array([0.02808824, 0.15067976])]\n",
      "0.08704823682863068\n",
      "sum:  2.432913700929936e-16\n",
      "sum:  0.06459961889819295\n",
      "sum:  3.016400813261326e-16\n",
      "sum:  0.00444934597631014\n",
      "sum:  2.9875351094502244e-17\n",
      "sum:  0.0004276441072921884\n",
      "sum:  1.557554047325946e-17\n",
      "sum:  0.00032623795889559915\n",
      "sum:  1.7231289942475317e-17\n",
      "sum:  0.00035393974333034503\n",
      "sum:  0.1483923227308897\n",
      "sum:  0.007686505385012319\n",
      "sum:  4.637422504530969e-18\n",
      "sum:  7.154160876424005e-05\n",
      "sum:  3.663957079807868e-18\n",
      "sum:  5.8274013352495506e-05\n",
      "sum:  3.752189084066043e-18\n",
      "sum:  5.719136834077292e-05\n",
      "sum:  1.390063574599477e-17\n",
      "sum:  0.0002309952397691139\n",
      "[array([0.09823183, 0.23566879]), array([0.00917645, 0.12543935])]\n",
      "0.059573030476377443\n",
      "sum:  1.08371417619558e-31\n",
      "sum:  0.11602696657556344\n",
      "sum:  1.3436219546150282e-31\n",
      "sum:  3.213667354705701e-05\n",
      "sum:  1.3307641324409094e-32\n",
      "sum:  3.7745263816192255e-06\n",
      "sum:  6.937950565330825e-33\n",
      "sum:  3.365539932127432e-06\n",
      "sum:  7.675485686921752e-33\n",
      "sum:  3.6244622710813827e-06\n",
      "sum:  1.0000000000000132e-16\n",
      "sum:  4.4175672210375474e-05\n",
      "sum:  2.0656880783202498e-33\n",
      "sum:  6.702927624428034e-07\n",
      "sum:  1.6320687715447326e-33\n",
      "sum:  5.507534321540746e-07\n",
      "sum:  1.6713707236919855e-33\n",
      "sum:  5.296775779669498e-07\n",
      "sum:  6.191883014909463e-33\n",
      "sum:  2.2137564023906714e-06\n",
      "[array([0.09823183, 0.23566879]), array([0.00785856, 0.1235669 ])]\n",
      "0.2133903044548107\n",
      "sum:  1.0837141761955723e-31\n",
      "sum:  0.1485027531598889\n",
      "sum:  1.3436219546150183e-31\n",
      "sum:  5.942498972873587e-15\n",
      "sum:  1.3307641324408995e-32\n",
      "sum:  7.097709165992172e-16\n",
      "sum:  6.937950565330774e-33\n",
      "sum:  6.413438269901313e-16\n",
      "sum:  7.675485686921695e-33\n",
      "sum:  6.902923704633225e-16\n",
      "sum:  1.0000000000000056e-16\n",
      "sum:  8.08504031844017e-15\n",
      "sum:  2.0656880783202347e-33\n",
      "sum:  1.2675047323536773e-16\n",
      "sum:  1.6320687715447203e-33\n",
      "sum:  1.042143011518076e-16\n",
      "sum:  1.6713707236919732e-33\n",
      "sum:  1.0003911660867482e-16\n",
      "sum:  6.19188301490942e-33\n",
      "sum:  4.1943360999983556e-16\n",
      "[array([0.09823183, 0.23566879]), array([0.00785855, 0.12356688])]\n",
      "0.03256682793882585\n",
      "sum:  1.0837141761955723e-31\n",
      "sum:  1.0000000000113804e-16\n",
      "sum:  1.3436219546150183e-31\n",
      "sum:  7.965292388938944e-32\n",
      "sum:  1.3307641324408995e-32\n",
      "sum:  9.513731660707533e-33\n",
      "sum:  6.937950565330774e-33\n",
      "sum:  8.596540061325984e-33\n",
      "sum:  7.675485686921695e-33\n",
      "sum:  9.25264379272293e-33\n",
      "sum:  1.0000000000000056e-16\n",
      "sum:  1.0837141762078987e-31\n",
      "sum:  2.0656880783202347e-33\n",
      "sum:  1.6989567377032283e-33\n",
      "sum:  1.6320687715447203e-33\n",
      "sum:  1.3968830724039643e-33\n",
      "sum:  1.6713707236919732e-33\n",
      "sum:  1.3409190816521721e-33\n",
      "sum:  6.19188301490942e-33\n",
      "sum:  5.622066401569174e-33\n",
      "[array([0.09823183, 0.23566879]), array([0.00785855, 0.12356688])]\n",
      "0.1485027531599056\n",
      "sum:  1.0837141761955723e-31\n",
      "sum:  1.0000000000000048e-16\n",
      "sum:  1.3436219546150183e-31\n",
      "sum:  7.965292388848335e-32\n",
      "sum:  1.3307641324408995e-32\n",
      "sum:  9.513731660599312e-33\n",
      "sum:  6.937950565330774e-33\n",
      "sum:  8.596540061228195e-33\n",
      "sum:  7.675485686921695e-33\n",
      "sum:  9.252643792617675e-33\n",
      "sum:  1.0000000000000056e-16\n",
      "sum:  1.0837141761955712e-31\n",
      "sum:  2.0656880783202347e-33\n",
      "sum:  1.6989567376839023e-33\n",
      "sum:  1.6320687715447203e-33\n",
      "sum:  1.3968830723880746e-33\n",
      "sum:  1.6713707236919732e-33\n",
      "sum:  1.3409190816369188e-33\n",
      "sum:  6.19188301490942e-33\n",
      "sum:  5.622066401505221e-33\n",
      "[array([0.09823183, 0.23566879]), array([0.00785855, 0.12356688])]\n",
      "1.1375620772319897e-27\n"
     ]
    }
   ],
   "source": [
    "cluster()"
   ]
  },
  {
   "cell_type": "code",
   "execution_count": 15,
   "metadata": {},
   "outputs": [
    {
     "name": "stdout",
     "output_type": "stream",
     "text": [
      "[array([0.09823183, 0.23566879]), array([0.00785855, 0.12356688])]\n"
     ]
    }
   ],
   "source": [
    "print(centers)"
   ]
  },
  {
   "cell_type": "code",
   "execution_count": 16,
   "metadata": {},
   "outputs": [
    {
     "name": "stdout",
     "output_type": "stream",
     "text": [
      "[[1.0837141761955723e-31, 1.0000000000000048e-16], [1.3436219546150183e-31, 7.965292388848335e-32], [1.3307641324408995e-32, 9.513731660599312e-33], [6.937950565330774e-33, 8.596540061228195e-33], [7.675485686921695e-33, 9.252643792617675e-33], [1.0000000000000056e-16, 1.0837141761955712e-31], [2.0656880783202347e-33, 1.6989567376839023e-33], [1.6320687715447203e-33, 1.3968830723880746e-33], [1.6713707236919732e-33, 1.3409190816369188e-33], [6.19188301490942e-33, 5.622066401505221e-33]]\n"
     ]
    }
   ],
   "source": [
    "print(assignation)"
   ]
  },
  {
   "cell_type": "code",
   "execution_count": 17,
   "metadata": {},
   "outputs": [],
   "source": [
    "red = X_norm[np.where(np.array(assignation)[:,0] > np.array(assignation)[:,1])]\n",
    "blue = X_norm[np.where(np.array(assignation)[:,1] > np.array(assignation)[:,0])]\n",
    "\n",
    "#red = X_norm[np.where(np.array(assignation)[:,0] > np.array(assignation)[:,1]) and np.where(np.array(assignation)[:,0] > np.array(assignation)[:,2])]\n",
    "#blue = X_norm[np.where(np.array(assignation)[:,1] > np.array(assignation)[:,0]) and np.where(np.array(assignation)[:,1] > np.array(assignation)[:,2])]\n",
    "#orange = X_norm[np.where(np.array(assignation)[:,2] > np.array(assignation)[:,0]) and np.where(np.array(assignation)[:,2] > np.array(assignation)[:,1])]"
   ]
  },
  {
   "cell_type": "code",
   "execution_count": 18,
   "metadata": {},
   "outputs": [
    {
     "data": {
      "image/png": "[encoded data removed]",
      "text/plain": [
       "<matplotlib.figure.Figure at 0x11233da90>"
      ]
     },
     "metadata": {},
     "output_type": "display_data"
    }
   ],
   "source": [
    "fig, ax = plt.subplots()\n",
    "\n",
    "ax.scatter(blue[:,0],blue[:,1],c='blue')\n",
    "ax.scatter(red[:,0],red[:,1],c='red')\n",
    "#ax.scatter(orange[:,0],orange[:,1],c='orange')\n",
    "ax.scatter(np.array(centers)[:,0],np.array(centers)[:,1],c='black')\n",
    "ax.set(xlabel='Seats count', ylabel='Distance range (km)',\n",
    "       title='Aircrafts (clusters)')\n",
    "ax.grid()\n",
    "plt.show()"
   ]
  },
  {
   "cell_type": "code",
   "execution_count": null,
   "metadata": {},
   "outputs": [],
   "source": []
  }
 ],
 "metadata": {
  "kernelspec": {
   "display_name": "Python 3",
   "language": "python",
   "name": "python3"
  },
  "language_info": {
   "codemirror_mode": {
    "name": "ipython",
    "version": 3
   },
   "file_extension": ".py",
   "mimetype": "text/x-python",
   "name": "python",
   "nbconvert_exporter": "python",
   "pygments_lexer": "ipython3",
   "version": "3.6.4"
  }
 },
 "nbformat": 4,
 "nbformat_minor": 2
}
